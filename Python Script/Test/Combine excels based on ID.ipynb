{
 "cells": [
  {
   "cell_type": "code",
   "execution_count": null,
   "id": "1b13b50c",
   "metadata": {},
   "outputs": [],
   "source": [
    "import pandas as pd\n",
    "import pandera as pa"
   ]
  },
  {
   "cell_type": "code",
   "execution_count": 1,
   "id": "26ef9648",
   "metadata": {},
   "outputs": [
    {
     "ename": "NameError",
     "evalue": "name 'pd' is not defined",
     "output_type": "error",
     "traceback": [
      "\u001b[0;31m---------------------------------------------------------------------------\u001b[0m",
      "\u001b[0;31mNameError\u001b[0m                                 Traceback (most recent call last)",
      "Cell \u001b[0;32mIn[1], line 1\u001b[0m\n\u001b[0;32m----> 1\u001b[0m dfA \u001b[39m=\u001b[39m pd\u001b[39m.\u001b[39mread_csv(\u001b[39m'\u001b[39m\u001b[39mstudentSheet1.csv\u001b[39m\u001b[39m'\u001b[39m)\n\u001b[1;32m      2\u001b[0m dfB \u001b[39m=\u001b[39m pd\u001b[39m.\u001b[39mread_csv(\u001b[39m'\u001b[39m\u001b[39mstudentSheet2.csv\u001b[39m\u001b[39m'\u001b[39m)\n",
      "\u001b[0;31mNameError\u001b[0m: name 'pd' is not defined"
     ]
    }
   ],
   "source": [
    "dfA = pd.read_csv('studentSheet1.csv')\n",
    "dfB = pd.read_csv('studentSheet2.csv')"
   ]
  },
  {
   "cell_type": "code",
   "execution_count": null,
   "id": "d5181324",
   "metadata": {},
   "outputs": [],
   "source": [
    "merged_df = pd.merge(dfA, dfB, on='ID', how='inner')"
   ]
  },
  {
   "cell_type": "code",
   "execution_count": null,
   "id": "5d1c6db2",
   "metadata": {},
   "outputs": [],
   "source": [
    "merged_df.to_csv('merged_file.csv', index=False)"
   ]
  },
  {
   "cell_type": "code",
   "execution_count": null,
   "id": "ba1aa247",
   "metadata": {},
   "outputs": [],
   "source": [
    "merged_df"
   ]
  },
  {
   "cell_type": "code",
   "execution_count": null,
   "id": "8520f40e",
   "metadata": {},
   "outputs": [],
   "source": [
    "df1 = pd.read_csv('StudentData1.csv')\n",
    "df2 = pd.read_csv('StudentData2.csv')"
   ]
  },
  {
   "cell_type": "code",
   "execution_count": null,
   "id": "970ebc0c",
   "metadata": {},
   "outputs": [],
   "source": [
    "merged_data = pd.merge(df1, df2, left_on='ID', right_on='Student_ID', how='inner')"
   ]
  },
  {
   "cell_type": "code",
   "execution_count": null,
   "id": "ad456cf1",
   "metadata": {},
   "outputs": [],
   "source": [
    "merged_data"
   ]
  },
  {
   "cell_type": "code",
   "execution_count": null,
   "id": "1f80102c",
   "metadata": {},
   "outputs": [],
   "source": [
    "merged_data.drop('Student_ID', axis=1, inplace=True)"
   ]
  },
  {
   "cell_type": "code",
   "execution_count": null,
   "id": "cb593300",
   "metadata": {},
   "outputs": [],
   "source": [
    "merged_data"
   ]
  },
  {
   "cell_type": "code",
   "execution_count": null,
   "id": "40c0556f",
   "metadata": {},
   "outputs": [],
   "source": [
    "merged_data.to_csv('Combined Student Data.csv',index=False)"
   ]
  },
  {
   "cell_type": "code",
   "execution_count": null,
   "id": "9f86b370",
   "metadata": {},
   "outputs": [],
   "source": [
    "data_Merged = pd.read_csv('Combined Student Data.csv')"
   ]
  },
  {
   "cell_type": "code",
   "execution_count": null,
   "id": "d60cd0da",
   "metadata": {},
   "outputs": [],
   "source": [
    "data_Merged"
   ]
  },
  {
   "cell_type": "code",
   "execution_count": null,
   "id": "3d861cca",
   "metadata": {},
   "outputs": [],
   "source": [
    "testSchema = pa.DataFrameSchema({\n",
    "    'ID': pa.Column(pa.String, nullable=False),\n",
    "    'Name': pa.Column(pa.String, nullable=False),\n",
    "    'Class': pa.Column(pa.Int, pa.Check(lambda s: s > 0), nullable=False),\n",
    "    'Subject': pa.Column(pa.String, nullable=False),\n",
    "    'Marks': pa.Column(pa.Int, pa.Check(lambda s: s >= 0), nullable=False),\n",
    "})"
   ]
  },
  {
   "cell_type": "code",
   "execution_count": null,
   "id": "1793f06a",
   "metadata": {},
   "outputs": [],
   "source": [
    "try:\n",
    "    testSchema.validate(data_Merged)\n",
    "    print(\"Validation successful. No errors.\")\n",
    "except pa.errors.SchemaErrors as err:\n",
    "    print(\"Validation errors:\")"
   ]
  },
  {
   "cell_type": "code",
   "execution_count": null,
   "id": "d3459243",
   "metadata": {},
   "outputs": [],
   "source": [
    "data_Merged"
   ]
  },
  {
   "cell_type": "code",
   "execution_count": null,
   "id": "6db3a9ee",
   "metadata": {},
   "outputs": [],
   "source": [
    "data_Merged.iloc[0,1]=2"
   ]
  },
  {
   "cell_type": "code",
   "execution_count": null,
   "id": "57ff3f56",
   "metadata": {},
   "outputs": [],
   "source": [
    "data_Merged"
   ]
  },
  {
   "cell_type": "code",
   "execution_count": null,
   "id": "d70f44e5",
   "metadata": {},
   "outputs": [],
   "source": [
    "try:\n",
    "    testSchema.validate(data_Merged)\n",
    "    print(\"Validation successful. No errors.\")\n",
    "except pa.errors.SchemaErrors as err:\n",
    "    print(\"Validation errors:\")"
   ]
  },
  {
   "cell_type": "code",
   "execution_count": null,
   "id": "b8d8bde9",
   "metadata": {},
   "outputs": [],
   "source": [
    "data_Merged.iloc[2,1]=4"
   ]
  },
  {
   "cell_type": "code",
   "execution_count": null,
   "id": "1025a20e",
   "metadata": {},
   "outputs": [],
   "source": [
    "try:\n",
    "    testSchema.validate(data_Merged)\n",
    "    print(\"Validation successful. No errors.\")\n",
    "except pa.errors.SchemaErrors as err:\n",
    "    print(\"Validation errors:\")"
   ]
  },
  {
   "cell_type": "code",
   "execution_count": null,
   "id": "589d896f",
   "metadata": {},
   "outputs": [],
   "source": [
    "import pyspark.pandas as ps"
   ]
  },
  {
   "cell_type": "code",
   "execution_count": null,
   "id": "b9bc8960",
   "metadata": {},
   "outputs": [],
   "source": [
    "dfA1 = ps.read_csv('studentData1.csv')\n",
    "dfB1 = ps.read_csv('studentData2.csv')"
   ]
  },
  {
   "cell_type": "code",
   "execution_count": null,
   "id": "cf0745a7",
   "metadata": {},
   "outputs": [],
   "source": [
    "dfA1"
   ]
  },
  {
   "cell_type": "code",
   "execution_count": null,
   "id": "0c7fd18c",
   "metadata": {},
   "outputs": [],
   "source": [
    "dfB1"
   ]
  },
  {
   "cell_type": "code",
   "execution_count": null,
   "id": "99ebefe3",
   "metadata": {},
   "outputs": [],
   "source": [
    "merged_dff = ps.merge(dfA1, dfB1, left_on='ID', right_on='Student_ID', how='inner')"
   ]
  },
  {
   "cell_type": "code",
   "execution_count": null,
   "id": "c9b9fbbf",
   "metadata": {},
   "outputs": [],
   "source": [
    "merged_dff"
   ]
  },
  {
   "cell_type": "code",
   "execution_count": null,
   "id": "15603998",
   "metadata": {},
   "outputs": [],
   "source": [
    "merged_dff.drop(\"Student_ID\", axis=1)"
   ]
  },
  {
   "cell_type": "code",
   "execution_count": null,
   "id": "2ddc8a65",
   "metadata": {},
   "outputs": [],
   "source": [
    "merged_dff.to_csv('finalList.csv')"
   ]
  },
  {
   "cell_type": "code",
   "execution_count": null,
   "id": "485eeba8",
   "metadata": {},
   "outputs": [],
   "source": [
    "import os\n",
    "os.environ[\"PYARROW_IGNORE_TIMEZONE\"] = \"1\""
   ]
  },
  {
   "cell_type": "code",
   "execution_count": null,
   "id": "45621215",
   "metadata": {},
   "outputs": [],
   "source": []
  }
 ],
 "metadata": {
  "kernelspec": {
   "display_name": "Python 3 (ipykernel)",
   "language": "python",
   "name": "python3"
  },
  "language_info": {
   "codemirror_mode": {
    "name": "ipython",
    "version": 3
   },
   "file_extension": ".py",
   "mimetype": "text/x-python",
   "name": "python",
   "nbconvert_exporter": "python",
   "pygments_lexer": "ipython3",
   "version": "3.11.3"
  }
 },
 "nbformat": 4,
 "nbformat_minor": 5
}
